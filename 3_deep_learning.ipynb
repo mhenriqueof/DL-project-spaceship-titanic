{
 "cells": [
  {
   "cell_type": "code",
   "execution_count": null,
   "metadata": {
    "id": "5T8f9Ra_lyOq"
   },
   "outputs": [],
   "source": [
    "import pandas as pd\n",
    "import matplotlib.pyplot as plt\n",
    "import torch\n",
    "import torch.nn as nn\n",
    "import torch.optim as optim\n",
    "import joblib\n",
    "\n",
    "from sklearn.preprocessing import StandardScaler\n",
    "from sklearn.model_selection import train_test_split\n",
    "from torch.utils.data import DataLoader, TensorDataset\n",
    "from itertools import product"
   ]
  },
  {
   "cell_type": "code",
   "execution_count": null,
   "metadata": {
    "id": "2I3SmXeWmass"
   },
   "outputs": [],
   "source": [
    "if torch.cuda.is_available():\n",
    "    device = torch.device('cuda')\n",
    "else:\n",
    "    device = torch.device('cpu')"
   ]
  },
  {
   "cell_type": "markdown",
   "metadata": {
    "id": "JoqSW32WmoBK"
   },
   "source": [
    "---"
   ]
  },
  {
   "cell_type": "code",
   "execution_count": null,
   "metadata": {
    "id": "AjugoLCXmvmq"
   },
   "outputs": [],
   "source": [
    "train_df = pd.read_csv('/content/new_train.csv')"
   ]
  },
  {
   "cell_type": "code",
   "execution_count": null,
   "metadata": {
    "id": "HOCXtmVCmy4q"
   },
   "outputs": [],
   "source": [
    "X = train_df.drop(columns='Transported')\n",
    "y = train_df['Transported']"
   ]
  },
  {
   "cell_type": "code",
   "execution_count": null,
   "metadata": {
    "id": "fPcwfrlRm4MD"
   },
   "outputs": [],
   "source": [
    "scaler = StandardScaler()\n",
    "X[X.columns] = scaler.fit_transform(X)"
   ]
  },
  {
   "cell_type": "code",
   "execution_count": null,
   "metadata": {
    "id": "giX4AAXWm-Z6"
   },
   "outputs": [],
   "source": [
    "X = torch.tensor(X.values).float()\n",
    "y = torch.tensor(y.values).long()"
   ]
  },
  {
   "cell_type": "code",
   "execution_count": null,
   "metadata": {
    "id": "JLCav_SpnBk7"
   },
   "outputs": [],
   "source": [
    "X_train, X_valid, y_train, y_valid = train_test_split(X, y, stratify=y, test_size=0.33, random_state=42)"
   ]
  },
  {
   "cell_type": "markdown",
   "metadata": {
    "id": "_0qW0Ixxkpb2"
   },
   "source": [
    "---"
   ]
  },
  {
   "cell_type": "code",
   "execution_count": null,
   "metadata": {
    "id": "uyNvl0A7jlSL"
   },
   "outputs": [],
   "source": [
    "class TitanicModel(nn.Module):\n",
    "    def __init__(self, input_size, output_size):\n",
    "        super(TitanicModel, self).__init__()\n",
    "        self.relu = nn.ReLU()\n",
    "        self.dropout = nn.Dropout(0.2)\n",
    "\n",
    "        self.layer1 = nn.Linear(input_size, 64)\n",
    "        self.layer2 = nn.Linear(64, 32)\n",
    "        self.layer3 = nn.Linear(32, 16)\n",
    "        self.layer4 = nn.Linear(16, output_size)\n",
    "\n",
    "    def forward(self, X):\n",
    "        out = self.layer1(X)\n",
    "        out = self.relu(out)\n",
    "        out = self.dropout(out)\n",
    "        out = self.layer2(out)\n",
    "        out = self.relu(out)\n",
    "        out = self.dropout(out)\n",
    "        out = self.layer3(out)\n",
    "        out = self.relu(out)\n",
    "        out = self.dropout(out)\n",
    "        out = self.layer4(out)\n",
    "        return out"
   ]
  },
  {
   "cell_type": "code",
   "execution_count": null,
   "metadata": {
    "id": "b1Zpa8TPV8l9"
   },
   "outputs": [],
   "source": [
    "input_size = X_train.shape[1]\n",
    "output_size = 2"
   ]
  },
  {
   "cell_type": "code",
   "execution_count": null,
   "metadata": {
    "colab": {
     "base_uri": "https://localhost:8080/"
    },
    "id": "pTGAwATnWF31",
    "outputId": "09cb79d1-5ef6-4334-e5a1-93514d99a771"
   },
   "outputs": [
    {
     "data": {
      "text/plain": [
       "TitanicModel(\n",
       "  (relu): ReLU()\n",
       "  (dropout): Dropout(p=0.2, inplace=False)\n",
       "  (layer1): Linear(in_features=17, out_features=64, bias=True)\n",
       "  (layer2): Linear(in_features=64, out_features=32, bias=True)\n",
       "  (layer3): Linear(in_features=32, out_features=16, bias=True)\n",
       "  (layer4): Linear(in_features=16, out_features=2, bias=True)\n",
       ")"
      ]
     },
     "execution_count": 67,
     "metadata": {},
     "output_type": "execute_result"
    }
   ],
   "source": [
    "model = TitanicModel(input_size, output_size).to(device)\n",
    "model"
   ]
  },
  {
   "cell_type": "code",
   "execution_count": null,
   "metadata": {
    "id": "DHZU_JThWFyX"
   },
   "outputs": [],
   "source": [
    "criterion = nn.CrossEntropyLoss()\n",
    "optimizer = optim.Adam(model.parameters())"
   ]
  },
  {
   "cell_type": "code",
   "execution_count": null,
   "metadata": {
    "id": "2YRAIXTYWFwb"
   },
   "outputs": [],
   "source": [
    "batch_size = 4096\n",
    "best_loss = float('inf')\n",
    "patience = 10\n",
    "counter = 0"
   ]
  },
  {
   "cell_type": "code",
   "execution_count": null,
   "metadata": {
    "id": "VXvw_FQoLKj3"
   },
   "outputs": [],
   "source": [
    "train_dataset = TensorDataset(X_train, y_train)\n",
    "train_loader = DataLoader(train_dataset, batch_size=batch_size, shuffle=True)"
   ]
  },
  {
   "cell_type": "code",
   "execution_count": null,
   "metadata": {
    "colab": {
     "base_uri": "https://localhost:8080/"
    },
    "id": "c9-Lipz3WFtj",
    "outputId": "9cf3a47e-97c9-4659-c59c-2eff88c13404"
   },
   "outputs": [
    {
     "name": "stdout",
     "output_type": "stream",
     "text": [
      "Epoch [1] - Loss: 69.31 - Val Loss: 68.99 - Test Accuracy: 49.52\n",
      "Epoch [2] - Loss: 69.02 - Val Loss: 68.47 - Test Accuracy: 52.07\n",
      "Epoch [3] - Loss: 68.50 - Val Loss: 67.93 - Test Accuracy: 59.32\n",
      "Epoch [4] - Loss: 67.90 - Val Loss: 67.36 - Test Accuracy: 67.08\n",
      "Epoch [5] - Loss: 67.41 - Val Loss: 66.74 - Test Accuracy: 72.45\n",
      "Epoch [6] - Loss: 66.77 - Val Loss: 66.06 - Test Accuracy: 75.03\n",
      "Epoch [7] - Loss: 66.04 - Val Loss: 65.31 - Test Accuracy: 75.59\n",
      "Epoch [8] - Loss: 65.20 - Val Loss: 64.49 - Test Accuracy: 76.18\n",
      "Epoch [9] - Loss: 64.46 - Val Loss: 63.59 - Test Accuracy: 76.65\n",
      "Epoch [10] - Loss: 63.43 - Val Loss: 62.62 - Test Accuracy: 76.79\n",
      "Epoch [11] - Loss: 62.65 - Val Loss: 61.56 - Test Accuracy: 77.13\n",
      "Epoch [12] - Loss: 61.80 - Val Loss: 60.43 - Test Accuracy: 77.32\n",
      "Epoch [13] - Loss: 60.26 - Val Loss: 59.21 - Test Accuracy: 77.55\n",
      "Epoch [14] - Loss: 59.03 - Val Loss: 57.93 - Test Accuracy: 77.83\n",
      "Epoch [15] - Loss: 58.20 - Val Loss: 56.59 - Test Accuracy: 78.05\n",
      "Epoch [16] - Loss: 56.68 - Val Loss: 55.21 - Test Accuracy: 78.28\n",
      "Epoch [17] - Loss: 55.63 - Val Loss: 53.82 - Test Accuracy: 78.61\n",
      "Epoch [18] - Loss: 53.68 - Val Loss: 52.45 - Test Accuracy: 79.00\n",
      "Epoch [19] - Loss: 52.53 - Val Loss: 51.12 - Test Accuracy: 79.03\n",
      "Epoch [20] - Loss: 52.30 - Val Loss: 49.85 - Test Accuracy: 79.17\n",
      "Epoch [21] - Loss: 50.53 - Val Loss: 48.66 - Test Accuracy: 79.20\n",
      "Epoch [22] - Loss: 49.86 - Val Loss: 47.58 - Test Accuracy: 79.34\n",
      "Epoch [23] - Loss: 48.65 - Val Loss: 46.63 - Test Accuracy: 79.37\n",
      "Epoch [24] - Loss: 48.10 - Val Loss: 45.82 - Test Accuracy: 79.62\n",
      "Epoch [25] - Loss: 47.17 - Val Loss: 45.12 - Test Accuracy: 79.98\n",
      "Epoch [26] - Loss: 45.74 - Val Loss: 44.55 - Test Accuracy: 80.35\n",
      "Epoch [27] - Loss: 45.71 - Val Loss: 44.07 - Test Accuracy: 80.60\n",
      "Epoch [28] - Loss: 45.95 - Val Loss: 43.69 - Test Accuracy: 80.68\n",
      "Epoch [29] - Loss: 44.75 - Val Loss: 43.39 - Test Accuracy: 80.96\n",
      "Epoch [30] - Loss: 45.47 - Val Loss: 43.15 - Test Accuracy: 81.16\n",
      "Epoch [31] - Loss: 44.95 - Val Loss: 42.95 - Test Accuracy: 81.02\n",
      "Epoch [32] - Loss: 43.50 - Val Loss: 42.78 - Test Accuracy: 81.22\n",
      "Epoch [33] - Loss: 42.97 - Val Loss: 42.62 - Test Accuracy: 81.13\n",
      "Epoch [34] - Loss: 43.15 - Val Loss: 42.45 - Test Accuracy: 81.13\n",
      "Epoch [35] - Loss: 43.93 - Val Loss: 42.26 - Test Accuracy: 81.13\n",
      "Epoch [36] - Loss: 44.31 - Val Loss: 42.04 - Test Accuracy: 81.22\n",
      "Epoch [37] - Loss: 43.02 - Val Loss: 41.83 - Test Accuracy: 81.16\n",
      "Epoch [38] - Loss: 42.42 - Val Loss: 41.64 - Test Accuracy: 81.13\n",
      "Epoch [39] - Loss: 41.17 - Val Loss: 41.45 - Test Accuracy: 81.16\n",
      "Epoch [40] - Loss: 42.89 - Val Loss: 41.30 - Test Accuracy: 81.27\n",
      "Epoch [41] - Loss: 41.99 - Val Loss: 41.18 - Test Accuracy: 81.41\n",
      "Epoch [42] - Loss: 39.78 - Val Loss: 41.07 - Test Accuracy: 81.47\n",
      "Epoch [43] - Loss: 41.50 - Val Loss: 40.98 - Test Accuracy: 81.47\n",
      "Epoch [44] - Loss: 41.25 - Val Loss: 40.89 - Test Accuracy: 81.49\n",
      "Epoch [45] - Loss: 40.85 - Val Loss: 40.82 - Test Accuracy: 81.61\n",
      "Epoch [46] - Loss: 43.12 - Val Loss: 40.77 - Test Accuracy: 81.61\n",
      "Epoch [47] - Loss: 42.42 - Val Loss: 40.71 - Test Accuracy: 81.66\n",
      "Epoch [48] - Loss: 40.00 - Val Loss: 40.65 - Test Accuracy: 81.69\n",
      "Epoch [49] - Loss: 40.20 - Val Loss: 40.59 - Test Accuracy: 81.72\n",
      "Epoch [50] - Loss: 40.62 - Val Loss: 40.55 - Test Accuracy: 81.69\n",
      "Epoch [51] - Loss: 39.78 - Val Loss: 40.50 - Test Accuracy: 81.77\n",
      "Epoch [52] - Loss: 42.17 - Val Loss: 40.46 - Test Accuracy: 81.80\n",
      "Epoch [53] - Loss: 40.75 - Val Loss: 40.41 - Test Accuracy: 81.83\n",
      "Epoch [54] - Loss: 41.07 - Val Loss: 40.34 - Test Accuracy: 81.77\n",
      "Epoch [55] - Loss: 39.39 - Val Loss: 40.27 - Test Accuracy: 81.77\n",
      "Epoch [56] - Loss: 40.10 - Val Loss: 40.20 - Test Accuracy: 81.80\n",
      "Epoch [57] - Loss: 38.76 - Val Loss: 40.13 - Test Accuracy: 81.94\n",
      "Epoch [58] - Loss: 39.71 - Val Loss: 40.08 - Test Accuracy: 81.86\n",
      "Epoch [59] - Loss: 39.10 - Val Loss: 40.05 - Test Accuracy: 81.91\n",
      "Epoch [60] - Loss: 38.79 - Val Loss: 40.03 - Test Accuracy: 81.77\n",
      "Epoch [61] - Loss: 40.05 - Val Loss: 39.99 - Test Accuracy: 81.63\n",
      "Epoch [62] - Loss: 39.01 - Val Loss: 39.92 - Test Accuracy: 81.80\n",
      "Epoch [63] - Loss: 40.44 - Val Loss: 39.83 - Test Accuracy: 82.00\n",
      "Epoch [64] - Loss: 39.13 - Val Loss: 39.75 - Test Accuracy: 82.05\n",
      "Epoch [65] - Loss: 40.33 - Val Loss: 39.70 - Test Accuracy: 82.11\n",
      "Epoch [66] - Loss: 39.29 - Val Loss: 39.66 - Test Accuracy: 82.11\n",
      "Epoch [67] - Loss: 37.84 - Val Loss: 39.62 - Test Accuracy: 82.17\n",
      "Epoch [68] - Loss: 38.15 - Val Loss: 39.60 - Test Accuracy: 82.14\n",
      "Epoch [69] - Loss: 38.90 - Val Loss: 39.57 - Test Accuracy: 82.05\n",
      "Epoch [70] - Loss: 39.00 - Val Loss: 39.53 - Test Accuracy: 82.05\n",
      "Epoch [71] - Loss: 39.37 - Val Loss: 39.49 - Test Accuracy: 82.05\n",
      "Epoch [72] - Loss: 37.91 - Val Loss: 39.45 - Test Accuracy: 82.00\n",
      "Epoch [73] - Loss: 38.69 - Val Loss: 39.40 - Test Accuracy: 82.08\n",
      "Epoch [74] - Loss: 37.45 - Val Loss: 39.37 - Test Accuracy: 82.19\n",
      "Epoch [75] - Loss: 38.83 - Val Loss: 39.33 - Test Accuracy: 82.28\n",
      "Epoch [76] - Loss: 37.68 - Val Loss: 39.29 - Test Accuracy: 82.47\n",
      "Epoch [77] - Loss: 38.53 - Val Loss: 39.26 - Test Accuracy: 82.45\n",
      "Epoch [78] - Loss: 38.55 - Val Loss: 39.25 - Test Accuracy: 82.36\n",
      "Epoch [79] - Loss: 38.63 - Val Loss: 39.26 - Test Accuracy: 82.28\n",
      "Epoch [80] - Loss: 38.03 - Val Loss: 39.26 - Test Accuracy: 82.11\n",
      "Epoch [81] - Loss: 37.36 - Val Loss: 39.25 - Test Accuracy: 82.11\n",
      "Epoch [82] - Loss: 38.36 - Val Loss: 39.24 - Test Accuracy: 82.14\n",
      "Epoch [83] - Loss: 38.88 - Val Loss: 39.20 - Test Accuracy: 82.17\n",
      "Epoch [84] - Loss: 37.32 - Val Loss: 39.16 - Test Accuracy: 82.22\n",
      "Epoch [85] - Loss: 39.02 - Val Loss: 39.11 - Test Accuracy: 82.28\n",
      "Epoch [86] - Loss: 38.31 - Val Loss: 39.05 - Test Accuracy: 82.39\n",
      "Epoch [87] - Loss: 36.12 - Val Loss: 39.00 - Test Accuracy: 82.56\n",
      "Epoch [88] - Loss: 39.23 - Val Loss: 38.98 - Test Accuracy: 82.64\n",
      "Epoch [89] - Loss: 38.03 - Val Loss: 38.97 - Test Accuracy: 82.61\n",
      "Epoch [90] - Loss: 36.90 - Val Loss: 38.97 - Test Accuracy: 82.39\n",
      "Epoch [91] - Loss: 36.98 - Val Loss: 38.97 - Test Accuracy: 82.42\n",
      "Epoch [92] - Loss: 36.67 - Val Loss: 38.97 - Test Accuracy: 82.45\n",
      "Epoch [93] - Loss: 37.85 - Val Loss: 38.97 - Test Accuracy: 82.42\n",
      "Epoch [94] - Loss: 38.25 - Val Loss: 38.94 - Test Accuracy: 82.45\n",
      "Epoch [95] - Loss: 37.34 - Val Loss: 38.91 - Test Accuracy: 82.28\n",
      "Epoch [96] - Loss: 38.60 - Val Loss: 38.89 - Test Accuracy: 82.31\n",
      "Epoch [97] - Loss: 37.52 - Val Loss: 38.88 - Test Accuracy: 82.36\n",
      "Epoch [98] - Loss: 38.14 - Val Loss: 38.88 - Test Accuracy: 82.28\n",
      "Epoch [99] - Loss: 36.70 - Val Loss: 38.88 - Test Accuracy: 82.25\n",
      "Epoch [100] - Loss: 37.36 - Val Loss: 38.89 - Test Accuracy: 82.17\n",
      "Epoch [101] - Loss: 37.26 - Val Loss: 38.90 - Test Accuracy: 82.17\n",
      "Epoch [102] - Loss: 39.38 - Val Loss: 38.90 - Test Accuracy: 82.22\n",
      "Epoch [103] - Loss: 37.39 - Val Loss: 38.86 - Test Accuracy: 82.19\n",
      "Epoch [104] - Loss: 37.69 - Val Loss: 38.82 - Test Accuracy: 82.14\n",
      "Epoch [105] - Loss: 38.84 - Val Loss: 38.77 - Test Accuracy: 82.17\n",
      "Epoch [106] - Loss: 37.52 - Val Loss: 38.74 - Test Accuracy: 82.22\n",
      "Epoch [107] - Loss: 37.97 - Val Loss: 38.70 - Test Accuracy: 82.36\n",
      "Epoch [108] - Loss: 37.02 - Val Loss: 38.67 - Test Accuracy: 82.36\n",
      "Epoch [109] - Loss: 37.36 - Val Loss: 38.67 - Test Accuracy: 82.53\n",
      "Epoch [110] - Loss: 37.23 - Val Loss: 38.66 - Test Accuracy: 82.56\n",
      "Epoch [111] - Loss: 36.47 - Val Loss: 38.66 - Test Accuracy: 82.61\n",
      "Epoch [112] - Loss: 37.49 - Val Loss: 38.65 - Test Accuracy: 82.59\n",
      "Epoch [113] - Loss: 37.84 - Val Loss: 38.64 - Test Accuracy: 82.59\n",
      "Epoch [114] - Loss: 36.83 - Val Loss: 38.64 - Test Accuracy: 82.53\n",
      "Epoch [115] - Loss: 35.48 - Val Loss: 38.64 - Test Accuracy: 82.53\n",
      "Epoch [116] - Loss: 38.55 - Val Loss: 38.65 - Test Accuracy: 82.47\n",
      "Epoch [117] - Loss: 37.57 - Val Loss: 38.66 - Test Accuracy: 82.39\n",
      "Epoch [118] - Loss: 39.15 - Val Loss: 38.65 - Test Accuracy: 82.47\n",
      "Epoch [119] - Loss: 35.92 - Val Loss: 38.62 - Test Accuracy: 82.50\n",
      "Epoch [120] - Loss: 35.85 - Val Loss: 38.59 - Test Accuracy: 82.56\n",
      "Epoch [121] - Loss: 36.73 - Val Loss: 38.56 - Test Accuracy: 82.59\n",
      "Epoch [122] - Loss: 36.87 - Val Loss: 38.55 - Test Accuracy: 82.64\n",
      "Epoch [123] - Loss: 36.89 - Val Loss: 38.55 - Test Accuracy: 82.67\n",
      "Epoch [124] - Loss: 37.66 - Val Loss: 38.57 - Test Accuracy: 82.70\n",
      "Epoch [125] - Loss: 36.42 - Val Loss: 38.58 - Test Accuracy: 82.70\n",
      "Epoch [126] - Loss: 37.23 - Val Loss: 38.56 - Test Accuracy: 82.70\n",
      "Epoch [127] - Loss: 35.40 - Val Loss: 38.53 - Test Accuracy: 82.73\n",
      "Epoch [128] - Loss: 36.25 - Val Loss: 38.51 - Test Accuracy: 82.70\n",
      "Epoch [129] - Loss: 37.37 - Val Loss: 38.50 - Test Accuracy: 82.73\n",
      "Epoch [130] - Loss: 36.47 - Val Loss: 38.48 - Test Accuracy: 82.75\n",
      "Epoch [131] - Loss: 37.31 - Val Loss: 38.48 - Test Accuracy: 82.64\n",
      "Epoch [132] - Loss: 36.96 - Val Loss: 38.49 - Test Accuracy: 82.64\n",
      "Epoch [133] - Loss: 36.36 - Val Loss: 38.51 - Test Accuracy: 82.75\n",
      "Epoch [134] - Loss: 36.95 - Val Loss: 38.52 - Test Accuracy: 82.70\n",
      "Epoch [135] - Loss: 38.57 - Val Loss: 38.53 - Test Accuracy: 82.70\n",
      "Epoch [136] - Loss: 37.41 - Val Loss: 38.52 - Test Accuracy: 82.73\n",
      "Epoch [137] - Loss: 36.97 - Val Loss: 38.51 - Test Accuracy: 82.73\n",
      "Epoch [138] - Loss: 37.14 - Val Loss: 38.49 - Test Accuracy: 82.70\n",
      "Epoch [139] - Loss: 36.91 - Val Loss: 38.47 - Test Accuracy: 82.75\n",
      "Epoch [140] - Loss: 36.52 - Val Loss: 38.43 - Test Accuracy: 82.87\n",
      "Epoch [141] - Loss: 36.87 - Val Loss: 38.42 - Test Accuracy: 82.95\n",
      "Epoch [142] - Loss: 35.79 - Val Loss: 38.41 - Test Accuracy: 82.81\n",
      "Epoch [143] - Loss: 36.49 - Val Loss: 38.43 - Test Accuracy: 82.73\n",
      "Epoch [144] - Loss: 36.16 - Val Loss: 38.45 - Test Accuracy: 82.70\n",
      "Epoch [145] - Loss: 35.64 - Val Loss: 38.46 - Test Accuracy: 82.70\n",
      "Epoch [146] - Loss: 36.69 - Val Loss: 38.46 - Test Accuracy: 82.70\n",
      "Epoch [147] - Loss: 37.07 - Val Loss: 38.46 - Test Accuracy: 82.84\n",
      "Epoch [148] - Loss: 36.60 - Val Loss: 38.46 - Test Accuracy: 82.98\n",
      "Epoch [149] - Loss: 37.33 - Val Loss: 38.46 - Test Accuracy: 83.01\n",
      "Epoch [150] - Loss: 37.61 - Val Loss: 38.47 - Test Accuracy: 82.95\n",
      "Epoch [151] - Loss: 35.89 - Val Loss: 38.46 - Test Accuracy: 82.89\n",
      "Epoch [152] - Loss: 35.86 - Val Loss: 38.45 - Test Accuracy: 82.87\n",
      "Early stopping - Epoch 153\n"
     ]
    }
   ],
   "source": [
    "loss_log = []\n",
    "valid_loss_log = []\n",
    "\n",
    "epoch = 1\n",
    "while True:\n",
    "    model.train()\n",
    "    for batch_X, batch_y in train_loader:\n",
    "        pred = model(batch_X.to(device))\n",
    "        loss = criterion(pred, batch_y.to(device))\n",
    "\n",
    "        optimizer.zero_grad()\n",
    "        loss.backward()\n",
    "        optimizer.step()\n",
    "\n",
    "    model.eval()\n",
    "    with torch.no_grad():\n",
    "        val_pred = model(X_valid)\n",
    "        val_loss = criterion(val_pred, y_valid)\n",
    "        val_predictions = torch.argmax(val_pred, dim=1)\n",
    "        accuracy = (val_predictions == y_valid).sum().item() / y_valid.size(0)\n",
    "\n",
    "    print(f\"Epoch [{epoch}] - Loss: {(loss.item() * 100):.2f} - Val Loss: {(val_loss.item() * 100):.2f} - Test Accuracy: {(accuracy * 100):.2f}\")\n",
    "    loss_log.append(loss.item())\n",
    "    valid_loss_log.append(val_loss.item())\n",
    "    epoch += 1\n",
    "\n",
    "    if val_loss < best_loss:\n",
    "        best_loss = val_loss\n",
    "        counter = 0\n",
    "    else:\n",
    "        counter += 1\n",
    "        if counter >= patience:\n",
    "            print(f\"Early stopping - Epoch {epoch}\")\n",
    "            break"
   ]
  },
  {
   "cell_type": "code",
   "execution_count": null,
   "metadata": {
    "colab": {
     "base_uri": "https://localhost:8080/",
     "height": 472
    },
    "id": "cFMrBcffVfnP",
    "outputId": "bfa30344-5238-4046-aff5-96fb088810e1"
   },
   "outputs": [
    {
     "data": {
      "image/png": "[encoded data removed]",
      "text/plain": [
       "<Figure size 640x480 with 1 Axes>"
      ]
     },
     "metadata": {},
     "output_type": "display_data"
    }
   ],
   "source": [
    "epochs = range(1, len(loss_log) + 1)  # Create a list of epoch numbers\n",
    "plt.plot(epochs, loss_log, color='green', label='Training loss')  # Plot using epoch numbers\n",
    "plt.plot(epochs, valid_loss_log, color='blue', label='Validation loss')\n",
    "plt.title('Training and validation loss')\n",
    "plt.xlabel('Epochs')\n",
    "plt.ylabel('Loss')\n",
    "plt.legend()\n",
    "plt.show()"
   ]
  },
  {
   "cell_type": "markdown",
   "metadata": {
    "id": "vnusGTCOfNC_"
   },
   "source": [
    "---\n",
    "**Hyperparams tuning**"
   ]
  },
  {
   "cell_type": "code",
   "execution_count": null,
   "metadata": {
    "id": "cZIkn8jIUTcr"
   },
   "outputs": [],
   "source": [
    "lr_values = [0.001, 0.0005, 0.0001]\n",
    "wd_values = [0.001, 0.0005, 0.0001]"
   ]
  },
  {
   "cell_type": "code",
   "execution_count": null,
   "metadata": {
    "id": "nz1VitcPpqar"
   },
   "outputs": [],
   "source": [
    "def hyperparams_tunning(lr, wd):\n",
    "    model = TitanicModel(input_size, output_size).to(device)\n",
    "    criterion = nn.CrossEntropyLoss()\n",
    "    optimizer = optim.Adam(model.parameters(), lr=lr, weight_decay=wd)\n",
    "\n",
    "    patience = 10\n",
    "    best_loss = float('inf')\n",
    "    counter = 0\n",
    "    epoch = 1\n",
    "\n",
    "    while True:\n",
    "        model.train()\n",
    "        for batch_X, batch_y in train_loader:\n",
    "            pred = model(batch_X.to(device))\n",
    "            loss = criterion(pred, batch_y.to(device))\n",
    "\n",
    "            optimizer.zero_grad()\n",
    "            loss.backward()\n",
    "            optimizer.step()\n",
    "\n",
    "        model.eval()\n",
    "        with torch.no_grad():\n",
    "            val_pred = model(X_valid)\n",
    "            val_loss = criterion(val_pred, y_valid)\n",
    "            val_predictions = torch.argmax(val_pred, dim=1)\n",
    "            accuracy = (val_predictions == y_valid).sum().item() / y_valid.size(0)\n",
    "\n",
    "        if val_loss < best_loss:\n",
    "            best_loss = val_loss\n",
    "            best_accuracy = accuracy\n",
    "            counter = 0\n",
    "        else:\n",
    "            counter += 1\n",
    "            if counter >= patience:\n",
    "                break\n",
    "        epoch += 1\n",
    "\n",
    "    return best_accuracy"
   ]
  },
  {
   "cell_type": "code",
   "execution_count": null,
   "metadata": {
    "colab": {
     "base_uri": "https://localhost:8080/"
    },
    "id": "kCW3WI5dXnmF",
    "outputId": "de3c8a31-eefc-44f8-a8db-b37fc601daa6"
   },
   "outputs": [
    {
     "name": "stdout",
     "output_type": "stream",
     "text": [
      "LR: 0.001, WD: 0.001, Accuracy: 0.8275\n",
      "LR: 0.001, WD: 0.0005, Accuracy: 0.8259\n",
      "LR: 0.001, WD: 0.0001, Accuracy: 0.8309\n",
      "LR: 0.0005, WD: 0.001, Accuracy: 0.8267\n",
      "LR: 0.0005, WD: 0.0005, Accuracy: 0.8278\n",
      "LR: 0.0005, WD: 0.0001, Accuracy: 0.8264\n",
      "LR: 0.0001, WD: 0.001, Accuracy: 0.8270\n",
      "LR: 0.0001, WD: 0.0005, Accuracy: 0.8270\n",
      "LR: 0.0001, WD: 0.0001, Accuracy: 0.8267\n",
      "Best params: LR=0.001, WD=0.0001, Accuracy=0.8309\n"
     ]
    }
   ],
   "source": [
    "best_acc = 0\n",
    "best_params = None\n",
    "\n",
    "for lr, wd in product(lr_values, wd_values):\n",
    "    acc = hyperparams_tunning(lr, wd)\n",
    "    print(f\"LR: {lr}, WD: {wd}, Accuracy: {acc:.4f}\")\n",
    "    if acc > best_acc:\n",
    "        best_acc = acc\n",
    "        best_params = (lr, wd)\n",
    "\n",
    "print(f\"Best params: LR={best_params[0]}, WD={best_params[1]}, Accuracy={best_acc:.4f}\")"
   ]
  },
  {
   "cell_type": "code",
   "execution_count": null,
   "metadata": {
    "colab": {
     "base_uri": "https://localhost:8080/"
    },
    "id": "4oCjE9ipZXaS",
    "outputId": "7a424794-30a9-4e10-80c3-694773c3c4bd"
   },
   "outputs": [
    {
     "data": {
      "text/plain": [
       "(0.001, 0.0001)"
      ]
     },
     "execution_count": 26,
     "metadata": {},
     "output_type": "execute_result"
    }
   ],
   "source": [
    "best_params"
   ]
  },
  {
   "cell_type": "markdown",
   "metadata": {
    "id": "yfV0Xlk1J9Ct"
   },
   "source": [
    "---\n",
    "**Final model**"
   ]
  },
  {
   "cell_type": "code",
   "execution_count": null,
   "metadata": {
    "colab": {
     "base_uri": "https://localhost:8080/"
    },
    "id": "VKdlVH9MJ-DQ",
    "outputId": "05129fbc-1bf0-419f-eeda-5853a47905d0"
   },
   "outputs": [
    {
     "data": {
      "text/plain": [
       "TitanicModel(\n",
       "  (relu): ReLU()\n",
       "  (dropout): Dropout(p=0.2, inplace=False)\n",
       "  (layer1): Linear(in_features=17, out_features=64, bias=True)\n",
       "  (layer2): Linear(in_features=64, out_features=32, bias=True)\n",
       "  (layer3): Linear(in_features=32, out_features=16, bias=True)\n",
       "  (layer4): Linear(in_features=16, out_features=2, bias=True)\n",
       ")"
      ]
     },
     "execution_count": 27,
     "metadata": {},
     "output_type": "execute_result"
    }
   ],
   "source": [
    "model = TitanicModel(input_size, output_size).to(device)\n",
    "model"
   ]
  },
  {
   "cell_type": "code",
   "execution_count": null,
   "metadata": {
    "id": "VKEcOgymJ-DQ"
   },
   "outputs": [],
   "source": [
    "criterion = nn.CrossEntropyLoss()\n",
    "optimizer = optim.Adam(model.parameters(), lr=best_params[0], weight_decay=best_params[1])"
   ]
  },
  {
   "cell_type": "code",
   "execution_count": null,
   "metadata": {
    "id": "wuUfzEXJYRQF"
   },
   "outputs": [],
   "source": [
    "batch_size = 4096\n",
    "best_loss = float('inf')\n",
    "patience = 10\n",
    "counter = 0"
   ]
  },
  {
   "cell_type": "code",
   "execution_count": null,
   "metadata": {
    "id": "vOvfDwVhXF_8"
   },
   "outputs": [],
   "source": [
    "train_dataset = TensorDataset(X, y)\n",
    "train_loader = DataLoader(train_dataset, batch_size=batch_size, shuffle=True)"
   ]
  },
  {
   "cell_type": "code",
   "execution_count": null,
   "metadata": {
    "colab": {
     "base_uri": "https://localhost:8080/"
    },
    "id": "czuSKzv7J-DR",
    "outputId": "8abea5eb-ea52-4845-a1ea-bcbe41cf1bb8"
   },
   "outputs": [
    {
     "name": "stdout",
     "output_type": "stream",
     "text": [
      "Epoch [1] - Loss: 72.06\n",
      "Epoch [2] - Loss: 70.47\n",
      "Epoch [3] - Loss: 69.81\n",
      "Epoch [4] - Loss: 69.22\n",
      "Epoch [5] - Loss: 67.96\n",
      "Epoch [6] - Loss: 66.72\n",
      "Epoch [7] - Loss: 65.06\n",
      "Epoch [8] - Loss: 63.87\n",
      "Epoch [9] - Loss: 62.10\n",
      "Epoch [10] - Loss: 60.28\n",
      "Epoch [11] - Loss: 58.64\n",
      "Epoch [12] - Loss: 56.51\n",
      "Epoch [13] - Loss: 53.92\n",
      "Epoch [14] - Loss: 52.28\n",
      "Epoch [15] - Loss: 50.24\n",
      "Epoch [16] - Loss: 48.87\n",
      "Epoch [17] - Loss: 48.46\n",
      "Epoch [18] - Loss: 48.38\n",
      "Epoch [19] - Loss: 46.39\n",
      "Epoch [20] - Loss: 45.02\n",
      "Epoch [21] - Loss: 46.82\n",
      "Epoch [22] - Loss: 44.75\n",
      "Epoch [23] - Loss: 43.49\n",
      "Epoch [24] - Loss: 45.02\n",
      "Epoch [25] - Loss: 44.10\n",
      "Epoch [26] - Loss: 43.02\n",
      "Epoch [27] - Loss: 42.34\n",
      "Epoch [28] - Loss: 43.86\n",
      "Epoch [29] - Loss: 43.32\n",
      "Epoch [30] - Loss: 42.83\n",
      "Epoch [31] - Loss: 43.38\n",
      "Epoch [32] - Loss: 41.86\n",
      "Epoch [33] - Loss: 40.79\n",
      "Epoch [34] - Loss: 41.20\n",
      "Epoch [35] - Loss: 42.40\n",
      "Epoch [36] - Loss: 42.88\n",
      "Epoch [37] - Loss: 40.44\n",
      "Epoch [38] - Loss: 41.96\n",
      "Epoch [39] - Loss: 43.39\n",
      "Epoch [40] - Loss: 40.42\n",
      "Epoch [41] - Loss: 41.30\n",
      "Epoch [42] - Loss: 40.83\n",
      "Epoch [43] - Loss: 40.18\n",
      "Epoch [44] - Loss: 40.40\n",
      "Epoch [45] - Loss: 39.03\n",
      "Epoch [46] - Loss: 41.98\n",
      "Epoch [47] - Loss: 40.43\n",
      "Epoch [48] - Loss: 39.87\n",
      "Epoch [49] - Loss: 39.92\n",
      "Epoch [50] - Loss: 40.35\n",
      "Epoch [51] - Loss: 40.65\n",
      "Epoch [52] - Loss: 39.39\n",
      "Epoch [53] - Loss: 38.99\n",
      "Epoch [54] - Loss: 39.81\n",
      "Epoch [55] - Loss: 40.58\n",
      "Epoch [56] - Loss: 39.36\n",
      "Epoch [57] - Loss: 38.14\n",
      "Epoch [58] - Loss: 38.33\n",
      "Epoch [59] - Loss: 38.75\n",
      "Epoch [60] - Loss: 38.91\n",
      "Epoch [61] - Loss: 41.12\n",
      "Epoch [62] - Loss: 41.08\n",
      "Epoch [63] - Loss: 37.99\n",
      "Epoch [64] - Loss: 39.58\n",
      "Epoch [65] - Loss: 38.88\n",
      "Epoch [66] - Loss: 39.38\n",
      "Epoch [67] - Loss: 39.92\n",
      "Epoch [68] - Loss: 38.14\n",
      "Epoch [69] - Loss: 39.95\n",
      "Epoch [70] - Loss: 40.04\n",
      "Epoch [71] - Loss: 38.37\n",
      "Epoch [72] - Loss: 37.73\n",
      "Epoch [73] - Loss: 39.00\n",
      "Epoch [74] - Loss: 37.75\n",
      "Epoch [75] - Loss: 39.34\n",
      "Epoch [76] - Loss: 39.67\n",
      "Epoch [77] - Loss: 37.78\n",
      "Epoch [78] - Loss: 37.36\n",
      "Epoch [79] - Loss: 38.78\n",
      "Epoch [80] - Loss: 39.26\n",
      "Epoch [81] - Loss: 36.88\n",
      "Epoch [82] - Loss: 37.67\n",
      "Epoch [83] - Loss: 37.94\n",
      "Epoch [84] - Loss: 38.12\n",
      "Epoch [85] - Loss: 37.85\n",
      "Epoch [86] - Loss: 38.50\n",
      "Epoch [87] - Loss: 37.03\n",
      "Epoch [88] - Loss: 38.16\n",
      "Epoch [89] - Loss: 37.51\n",
      "Epoch [90] - Loss: 37.90\n",
      "Epoch [91] - Loss: 39.38\n",
      "Early stopping - Epoch 92\n"
     ]
    }
   ],
   "source": [
    "loss_log = []\n",
    "\n",
    "epoch = 1\n",
    "while True:\n",
    "    model.train()\n",
    "    for batch_X, batch_y in train_loader:\n",
    "        pred = model(batch_X.to(device))\n",
    "        loss = criterion(pred, batch_y.to(device))\n",
    "\n",
    "        optimizer.zero_grad()\n",
    "        loss.backward()\n",
    "        optimizer.step()\n",
    "\n",
    "    print(f\"Epoch [{epoch}] - Loss: {(loss.item() * 100):.2f}\")\n",
    "    loss_log.append(loss.item())\n",
    "    epoch += 1\n",
    "\n",
    "    if loss.item() < best_loss:\n",
    "        best_loss = loss.item()\n",
    "        counter = 0\n",
    "    else:\n",
    "        counter += 1\n",
    "        if counter >= patience:\n",
    "            print(f\"Early stopping - Epoch {epoch}\")\n",
    "            break"
   ]
  },
  {
   "cell_type": "markdown",
   "metadata": {
    "id": "DAi04ny1idFF"
   },
   "source": [
    "# Predictions"
   ]
  },
  {
   "cell_type": "code",
   "execution_count": null,
   "metadata": {
    "id": "0bAwsZnRK-Cg"
   },
   "outputs": [],
   "source": [
    "test_df_original = pd.read_csv('/content/test.csv')\n",
    "test_df = pd.read_csv('preprocessed_test.csv')\n",
    "test_df.drop(columns='Transported', inplace=True)"
   ]
  },
  {
   "cell_type": "code",
   "execution_count": null,
   "metadata": {
    "id": "x3NBS1-NNPZz"
   },
   "outputs": [],
   "source": [
    "feature_selection = joblib.load('feature_selection.joblib')\n",
    "scaler = StandardScaler()"
   ]
  },
  {
   "cell_type": "code",
   "execution_count": null,
   "metadata": {
    "id": "xaAxzRTwithi"
   },
   "outputs": [],
   "source": [
    "test_df = test_df[feature_selection]\n",
    "test_df = scaler.fit_transform(test_df)\n",
    "test_df = torch.tensor(test_df).float()"
   ]
  },
  {
   "cell_type": "code",
   "execution_count": null,
   "metadata": {
    "colab": {
     "base_uri": "https://localhost:8080/",
     "height": 423
    },
    "id": "KUEDBePfNXh7",
    "outputId": "f70e28be-f607-4af2-fdbe-3ff5df5ee552"
   },
   "outputs": [
    {
     "data": {
      "application/vnd.google.colaboratory.intrinsic+json": {
       "summary": "{\n  \"name\": \"df_submission\",\n  \"rows\": 4277,\n  \"fields\": [\n    {\n      \"column\": \"PassengerId\",\n      \"properties\": {\n        \"dtype\": \"string\",\n        \"num_unique_values\": 4277,\n        \"samples\": [\n          \"1135_02\",\n          \"0858_02\",\n          \"5588_01\"\n        ],\n        \"semantic_type\": \"\",\n        \"description\": \"\"\n      }\n    },\n    {\n      \"column\": \"Transported\",\n      \"properties\": {\n        \"dtype\": \"boolean\",\n        \"num_unique_values\": 2,\n        \"samples\": [\n          false,\n          true\n        ],\n        \"semantic_type\": \"\",\n        \"description\": \"\"\n      }\n    }\n  ]\n}",
       "type": "dataframe",
       "variable_name": "df_submission"
      },
      "text/html": [
       "\n",
       "  <div id=\"df-86c4e70b-b155-4d3c-985d-1d53e07180e2\" class=\"colab-df-container\">\n",
       "    <div>\n",
       "<style scoped>\n",
       "    .dataframe tbody tr th:only-of-type {\n",
       "        vertical-align: middle;\n",
       "    }\n",
       "\n",
       "    .dataframe tbody tr th {\n",
       "        vertical-align: top;\n",
       "    }\n",
       "\n",
       "    .dataframe thead th {\n",
       "        text-align: right;\n",
       "    }\n",
       "</style>\n",
       "<table border=\"1\" class=\"dataframe\">\n",
       "  <thead>\n",
       "    <tr style=\"text-align: right;\">\n",
       "      <th></th>\n",
       "      <th>PassengerId</th>\n",
       "      <th>Transported</th>\n",
       "    </tr>\n",
       "  </thead>\n",
       "  <tbody>\n",
       "    <tr>\n",
       "      <th>0</th>\n",
       "      <td>0013_01</td>\n",
       "      <td>True</td>\n",
       "    </tr>\n",
       "    <tr>\n",
       "      <th>1</th>\n",
       "      <td>0018_01</td>\n",
       "      <td>False</td>\n",
       "    </tr>\n",
       "    <tr>\n",
       "      <th>2</th>\n",
       "      <td>0019_01</td>\n",
       "      <td>True</td>\n",
       "    </tr>\n",
       "    <tr>\n",
       "      <th>3</th>\n",
       "      <td>0021_01</td>\n",
       "      <td>False</td>\n",
       "    </tr>\n",
       "    <tr>\n",
       "      <th>4</th>\n",
       "      <td>0023_01</td>\n",
       "      <td>True</td>\n",
       "    </tr>\n",
       "    <tr>\n",
       "      <th>...</th>\n",
       "      <td>...</td>\n",
       "      <td>...</td>\n",
       "    </tr>\n",
       "    <tr>\n",
       "      <th>4272</th>\n",
       "      <td>9266_02</td>\n",
       "      <td>True</td>\n",
       "    </tr>\n",
       "    <tr>\n",
       "      <th>4273</th>\n",
       "      <td>9269_01</td>\n",
       "      <td>True</td>\n",
       "    </tr>\n",
       "    <tr>\n",
       "      <th>4274</th>\n",
       "      <td>9271_01</td>\n",
       "      <td>True</td>\n",
       "    </tr>\n",
       "    <tr>\n",
       "      <th>4275</th>\n",
       "      <td>9273_01</td>\n",
       "      <td>False</td>\n",
       "    </tr>\n",
       "    <tr>\n",
       "      <th>4276</th>\n",
       "      <td>9277_01</td>\n",
       "      <td>True</td>\n",
       "    </tr>\n",
       "  </tbody>\n",
       "</table>\n",
       "<p>4277 rows × 2 columns</p>\n",
       "</div>\n",
       "    <div class=\"colab-df-buttons\">\n",
       "\n",
       "  <div class=\"colab-df-container\">\n",
       "    <button class=\"colab-df-convert\" onclick=\"convertToInteractive('df-86c4e70b-b155-4d3c-985d-1d53e07180e2')\"\n",
       "            title=\"Convert this dataframe to an interactive table.\"\n",
       "            style=\"display:none;\">\n",
       "\n",
       "  <svg xmlns=\"http://www.w3.org/2000/svg\" height=\"24px\" viewBox=\"0 -960 960 960\">\n",
       "    <path d=\"M120-120v-720h720v720H120Zm60-500h600v-160H180v160Zm220 220h160v-160H400v160Zm0 220h160v-160H400v160ZM180-400h160v-160H180v160Zm440 0h160v-160H620v160ZM180-180h160v-160H180v160Zm440 0h160v-160H620v160Z\"/>\n",
       "  </svg>\n",
       "    </button>\n",
       "\n",
       "  <style>\n",
       "    .colab-df-container {\n",
       "      display:flex;\n",
       "      gap: 12px;\n",
       "    }\n",
       "\n",
       "    .colab-df-convert {\n",
       "      background-color: #E8F0FE;\n",
       "      border: none;\n",
       "      border-radius: 50%;\n",
       "      cursor: pointer;\n",
       "      display: none;\n",
       "      fill: #1967D2;\n",
       "      height: 32px;\n",
       "      padding: 0 0 0 0;\n",
       "      width: 32px;\n",
       "    }\n",
       "\n",
       "    .colab-df-convert:hover {\n",
       "      background-color: #E2EBFA;\n",
       "      box-shadow: 0px 1px 2px rgba(60, 64, 67, 0.3), 0px 1px 3px 1px rgba(60, 64, 67, 0.15);\n",
       "      fill: #174EA6;\n",
       "    }\n",
       "\n",
       "    .colab-df-buttons div {\n",
       "      margin-bottom: 4px;\n",
       "    }\n",
       "\n",
       "    [theme=dark] .colab-df-convert {\n",
       "      background-color: #3B4455;\n",
       "      fill: #D2E3FC;\n",
       "    }\n",
       "\n",
       "    [theme=dark] .colab-df-convert:hover {\n",
       "      background-color: #434B5C;\n",
       "      box-shadow: 0px 1px 3px 1px rgba(0, 0, 0, 0.15);\n",
       "      filter: drop-shadow(0px 1px 2px rgba(0, 0, 0, 0.3));\n",
       "      fill: #FFFFFF;\n",
       "    }\n",
       "  </style>\n",
       "\n",
       "    <script>\n",
       "      const buttonEl =\n",
       "        document.querySelector('#df-86c4e70b-b155-4d3c-985d-1d53e07180e2 button.colab-df-convert');\n",
       "      buttonEl.style.display =\n",
       "        google.colab.kernel.accessAllowed ? 'block' : 'none';\n",
       "\n",
       "      async function convertToInteractive(key) {\n",
       "        const element = document.querySelector('#df-86c4e70b-b155-4d3c-985d-1d53e07180e2');\n",
       "        const dataTable =\n",
       "          await google.colab.kernel.invokeFunction('convertToInteractive',\n",
       "                                                    [key], {});\n",
       "        if (!dataTable) return;\n",
       "\n",
       "        const docLinkHtml = 'Like what you see? Visit the ' +\n",
       "          '<a target=\"_blank\" href=https://colab.research.google.com/notebooks/data_table.ipynb>data table notebook</a>'\n",
       "          + ' to learn more about interactive tables.';\n",
       "        element.innerHTML = '';\n",
       "        dataTable['output_type'] = 'display_data';\n",
       "        await google.colab.output.renderOutput(dataTable, element);\n",
       "        const docLink = document.createElement('div');\n",
       "        docLink.innerHTML = docLinkHtml;\n",
       "        element.appendChild(docLink);\n",
       "      }\n",
       "    </script>\n",
       "  </div>\n",
       "\n",
       "\n",
       "<div id=\"df-c5df9fd1-7cd6-4300-94c6-902b2ea78ac0\">\n",
       "  <button class=\"colab-df-quickchart\" onclick=\"quickchart('df-c5df9fd1-7cd6-4300-94c6-902b2ea78ac0')\"\n",
       "            title=\"Suggest charts\"\n",
       "            style=\"display:none;\">\n",
       "\n",
       "<svg xmlns=\"http://www.w3.org/2000/svg\" height=\"24px\"viewBox=\"0 0 24 24\"\n",
       "     width=\"24px\">\n",
       "    <g>\n",
       "        <path d=\"M19 3H5c-1.1 0-2 .9-2 2v14c0 1.1.9 2 2 2h14c1.1 0 2-.9 2-2V5c0-1.1-.9-2-2-2zM9 17H7v-7h2v7zm4 0h-2V7h2v10zm4 0h-2v-4h2v4z\"/>\n",
       "    </g>\n",
       "</svg>\n",
       "  </button>\n",
       "\n",
       "<style>\n",
       "  .colab-df-quickchart {\n",
       "      --bg-color: #E8F0FE;\n",
       "      --fill-color: #1967D2;\n",
       "      --hover-bg-color: #E2EBFA;\n",
       "      --hover-fill-color: #174EA6;\n",
       "      --disabled-fill-color: #AAA;\n",
       "      --disabled-bg-color: #DDD;\n",
       "  }\n",
       "\n",
       "  [theme=dark] .colab-df-quickchart {\n",
       "      --bg-color: #3B4455;\n",
       "      --fill-color: #D2E3FC;\n",
       "      --hover-bg-color: #434B5C;\n",
       "      --hover-fill-color: #FFFFFF;\n",
       "      --disabled-bg-color: #3B4455;\n",
       "      --disabled-fill-color: #666;\n",
       "  }\n",
       "\n",
       "  .colab-df-quickchart {\n",
       "    background-color: var(--bg-color);\n",
       "    border: none;\n",
       "    border-radius: 50%;\n",
       "    cursor: pointer;\n",
       "    display: none;\n",
       "    fill: var(--fill-color);\n",
       "    height: 32px;\n",
       "    padding: 0;\n",
       "    width: 32px;\n",
       "  }\n",
       "\n",
       "  .colab-df-quickchart:hover {\n",
       "    background-color: var(--hover-bg-color);\n",
       "    box-shadow: 0 1px 2px rgba(60, 64, 67, 0.3), 0 1px 3px 1px rgba(60, 64, 67, 0.15);\n",
       "    fill: var(--button-hover-fill-color);\n",
       "  }\n",
       "\n",
       "  .colab-df-quickchart-complete:disabled,\n",
       "  .colab-df-quickchart-complete:disabled:hover {\n",
       "    background-color: var(--disabled-bg-color);\n",
       "    fill: var(--disabled-fill-color);\n",
       "    box-shadow: none;\n",
       "  }\n",
       "\n",
       "  .colab-df-spinner {\n",
       "    border: 2px solid var(--fill-color);\n",
       "    border-color: transparent;\n",
       "    border-bottom-color: var(--fill-color);\n",
       "    animation:\n",
       "      spin 1s steps(1) infinite;\n",
       "  }\n",
       "\n",
       "  @keyframes spin {\n",
       "    0% {\n",
       "      border-color: transparent;\n",
       "      border-bottom-color: var(--fill-color);\n",
       "      border-left-color: var(--fill-color);\n",
       "    }\n",
       "    20% {\n",
       "      border-color: transparent;\n",
       "      border-left-color: var(--fill-color);\n",
       "      border-top-color: var(--fill-color);\n",
       "    }\n",
       "    30% {\n",
       "      border-color: transparent;\n",
       "      border-left-color: var(--fill-color);\n",
       "      border-top-color: var(--fill-color);\n",
       "      border-right-color: var(--fill-color);\n",
       "    }\n",
       "    40% {\n",
       "      border-color: transparent;\n",
       "      border-right-color: var(--fill-color);\n",
       "      border-top-color: var(--fill-color);\n",
       "    }\n",
       "    60% {\n",
       "      border-color: transparent;\n",
       "      border-right-color: var(--fill-color);\n",
       "    }\n",
       "    80% {\n",
       "      border-color: transparent;\n",
       "      border-right-color: var(--fill-color);\n",
       "      border-bottom-color: var(--fill-color);\n",
       "    }\n",
       "    90% {\n",
       "      border-color: transparent;\n",
       "      border-bottom-color: var(--fill-color);\n",
       "    }\n",
       "  }\n",
       "</style>\n",
       "\n",
       "  <script>\n",
       "    async function quickchart(key) {\n",
       "      const quickchartButtonEl =\n",
       "        document.querySelector('#' + key + ' button');\n",
       "      quickchartButtonEl.disabled = true;  // To prevent multiple clicks.\n",
       "      quickchartButtonEl.classList.add('colab-df-spinner');\n",
       "      try {\n",
       "        const charts = await google.colab.kernel.invokeFunction(\n",
       "            'suggestCharts', [key], {});\n",
       "      } catch (error) {\n",
       "        console.error('Error during call to suggestCharts:', error);\n",
       "      }\n",
       "      quickchartButtonEl.classList.remove('colab-df-spinner');\n",
       "      quickchartButtonEl.classList.add('colab-df-quickchart-complete');\n",
       "    }\n",
       "    (() => {\n",
       "      let quickchartButtonEl =\n",
       "        document.querySelector('#df-c5df9fd1-7cd6-4300-94c6-902b2ea78ac0 button');\n",
       "      quickchartButtonEl.style.display =\n",
       "        google.colab.kernel.accessAllowed ? 'block' : 'none';\n",
       "    })();\n",
       "  </script>\n",
       "</div>\n",
       "\n",
       "  <div id=\"id_dedd33b3-3306-4d77-ad7d-d56c54e2661b\">\n",
       "    <style>\n",
       "      .colab-df-generate {\n",
       "        background-color: #E8F0FE;\n",
       "        border: none;\n",
       "        border-radius: 50%;\n",
       "        cursor: pointer;\n",
       "        display: none;\n",
       "        fill: #1967D2;\n",
       "        height: 32px;\n",
       "        padding: 0 0 0 0;\n",
       "        width: 32px;\n",
       "      }\n",
       "\n",
       "      .colab-df-generate:hover {\n",
       "        background-color: #E2EBFA;\n",
       "        box-shadow: 0px 1px 2px rgba(60, 64, 67, 0.3), 0px 1px 3px 1px rgba(60, 64, 67, 0.15);\n",
       "        fill: #174EA6;\n",
       "      }\n",
       "\n",
       "      [theme=dark] .colab-df-generate {\n",
       "        background-color: #3B4455;\n",
       "        fill: #D2E3FC;\n",
       "      }\n",
       "\n",
       "      [theme=dark] .colab-df-generate:hover {\n",
       "        background-color: #434B5C;\n",
       "        box-shadow: 0px 1px 3px 1px rgba(0, 0, 0, 0.15);\n",
       "        filter: drop-shadow(0px 1px 2px rgba(0, 0, 0, 0.3));\n",
       "        fill: #FFFFFF;\n",
       "      }\n",
       "    </style>\n",
       "    <button class=\"colab-df-generate\" onclick=\"generateWithVariable('df_submission')\"\n",
       "            title=\"Generate code using this dataframe.\"\n",
       "            style=\"display:none;\">\n",
       "\n",
       "  <svg xmlns=\"http://www.w3.org/2000/svg\" height=\"24px\"viewBox=\"0 0 24 24\"\n",
       "       width=\"24px\">\n",
       "    <path d=\"M7,19H8.4L18.45,9,17,7.55,7,17.6ZM5,21V16.75L18.45,3.32a2,2,0,0,1,2.83,0l1.4,1.43a1.91,1.91,0,0,1,.58,1.4,1.91,1.91,0,0,1-.58,1.4L9.25,21ZM18.45,9,17,7.55Zm-12,3A5.31,5.31,0,0,0,4.9,8.1,5.31,5.31,0,0,0,1,6.5,5.31,5.31,0,0,0,4.9,4.9,5.31,5.31,0,0,0,6.5,1,5.31,5.31,0,0,0,8.1,4.9,5.31,5.31,0,0,0,12,6.5,5.46,5.46,0,0,0,6.5,12Z\"/>\n",
       "  </svg>\n",
       "    </button>\n",
       "    <script>\n",
       "      (() => {\n",
       "      const buttonEl =\n",
       "        document.querySelector('#id_dedd33b3-3306-4d77-ad7d-d56c54e2661b button.colab-df-generate');\n",
       "      buttonEl.style.display =\n",
       "        google.colab.kernel.accessAllowed ? 'block' : 'none';\n",
       "\n",
       "      buttonEl.onclick = () => {\n",
       "        google.colab.notebook.generateWithVariable('df_submission');\n",
       "      }\n",
       "      })();\n",
       "    </script>\n",
       "  </div>\n",
       "\n",
       "    </div>\n",
       "  </div>\n"
      ],
      "text/plain": [
       "     PassengerId  Transported\n",
       "0        0013_01         True\n",
       "1        0018_01        False\n",
       "2        0019_01         True\n",
       "3        0021_01        False\n",
       "4        0023_01         True\n",
       "...          ...          ...\n",
       "4272     9266_02         True\n",
       "4273     9269_01         True\n",
       "4274     9271_01         True\n",
       "4275     9273_01        False\n",
       "4276     9277_01         True\n",
       "\n",
       "[4277 rows x 2 columns]"
      ]
     },
     "execution_count": 47,
     "metadata": {},
     "output_type": "execute_result"
    }
   ],
   "source": [
    "model.eval()\n",
    "with torch.no_grad():\n",
    "    test_pred = model(test_df)\n",
    "    test_predictions = torch.argmax(test_pred, dim=1).numpy()\n",
    "\n",
    "df_submission = pd.DataFrame({\n",
    "    'PassengerId': test_df_original['PassengerId'],\n",
    "    'Transported': test_predictions.astype(bool)\n",
    "})\n",
    "df_submission"
   ]
  },
  {
   "cell_type": "code",
   "execution_count": null,
   "metadata": {
    "id": "EAZVFDHNjfPt"
   },
   "outputs": [],
   "source": [
    "df_submission.to_csv('submission.csv', index=False)"
   ]
  }
 ],
 "metadata": {
  "colab": {
   "provenance": []
  },
  "kernelspec": {
   "display_name": "Python 3",
   "name": "python3"
  },
  "language_info": {
   "name": "python"
  }
 },
 "nbformat": 4,
 "nbformat_minor": 0
}
